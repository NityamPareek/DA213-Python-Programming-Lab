{
 "cells": [
  {
   "cell_type": "code",
   "execution_count": 1,
   "id": "ee3663c3-0531-480a-9f2c-9d7d4f5dffb4",
   "metadata": {},
   "outputs": [],
   "source": [
    "import os\n",
    "import pandas as pd\n",
    "pd.options.display.max_colwidth = 500"
   ]
  },
  {
   "cell_type": "code",
   "execution_count": 2,
   "id": "cc5277a7-7e86-4801-88ab-e91a1aa14bbd",
   "metadata": {},
   "outputs": [],
   "source": [
    "SCHOOL_NAME = 'Mehta Family School of Data Science & AI'\n",
    "UG_STUDENT_COUNT = 52\n",
    "PHD_STUDENT_COUNT = 11"
   ]
  },
  {
   "cell_type": "code",
   "execution_count": 3,
   "id": "b28b33ea-b3a6-4137-bb4a-ae851339c65a",
   "metadata": {},
   "outputs": [],
   "source": [
    "df = pd.read_csv(\"DA213_class_02_faculty_data.csv\")"
   ]
  },
  {
   "cell_type": "code",
   "execution_count": 4,
   "id": "3e638811-3d4b-4457-a7b4-60900ce2212c",
   "metadata": {},
   "outputs": [],
   "source": [
    "col_names = list(df.columns)\n",
    "faculty_count = len(df)"
   ]
  },
  {
   "cell_type": "code",
   "execution_count": 5,
   "id": "feb40e52-4c88-4a9d-abac-34bc17225517",
   "metadata": {},
   "outputs": [],
   "source": [
    "faculty_pool = {}\n",
    "keys = list(df.Name)\n",
    "\n",
    "for key in keys:\n",
    "    \n",
    "    faculty_pool[key] = {}\n",
    "    keys_faculty = ['Name', 'Research Interests', 'Association', 'Affiliation', 'email', 'phone', 'website', 'Research Interests']\n",
    "    \n",
    "    for key_faculty in keys_faculty:\n",
    "        \n",
    "        faculty_pool[key][key_faculty] = df.loc[df.Name == key][key_faculty].to_string(index = False)"
   ]
  },
  {
   "cell_type": "code",
   "execution_count": 6,
   "id": "ce077ac0-81ad-4940-b8c3-20ef7213253b",
   "metadata": {},
   "outputs": [],
   "source": [
    "def home_screen():\n",
    "    os.system('clear')\n",
    "    \n",
    "    print(f\"Hello {username}! Following is some information about our school:\\n\")\n",
    "    print(f\"We have {faculty_count} faculty\")\n",
    "    print(f\"We have {UG_STUDENT_COUNT} UG Students and {PHD_STUDENT_COUNT} PhD Students\\n\\n\")\n",
    "\n",
    "    ip = input(\"Please enter:\\n1 - To See Faculty List\\nq - To Exit\\n\")\n",
    "\n",
    "    if ip=='1':\n",
    "        faculty_list()\n",
    "        \n",
    "    elif ip=='q':\n",
    "        exit()\n",
    "        \n",
    "    else:\n",
    "        print(\"Please enter a valid input\\n\")\n",
    "        input(\"Press any key to continue\")\n",
    "        home_screen()"
   ]
  },
  {
   "cell_type": "code",
   "execution_count": 1,
   "id": "d0a09df5-5eff-43a5-bdab-d8505fb48393",
   "metadata": {},
   "outputs": [],
   "source": [
    "def faculty_list():\n",
    "    os.system('clear')\n",
    "    \n",
    "    print(df.Name.sort_values().to_string(index = False))\n",
    "    \n",
    "    print(\"\\n\")\n",
    "    \n",
    "    print(\"Please enter:\")\n",
    "    ip = input(\"Faculty First Name to Know More\\n2 - Go Home\\nq - To Exit\\n\")\n",
    "    \n",
    "    Bool = False\n",
    "    \n",
    "    for i in range(len(keys)):\n",
    "        if ip in keys[i]:\n",
    "            Bool = True\n",
    "            fac_name = keys[i]\n",
    "            break\n",
    "    \n",
    "    if ip=='2':\n",
    "        home_screen()\n",
    "        \n",
    "    elif ip=='q':\n",
    "        exit()\n",
    "        \n",
    "    elif Bool==True:\n",
    "        faculty_info(fac_name)\n",
    "    \n",
    "    else:\n",
    "        print(\"Please enter a valid faculty name\\n\")\n",
    "        input(\"Press any key to continue\\n\")\n",
    "        faculty_list() "
   ]
  },
  {
   "cell_type": "code",
   "execution_count": 8,
   "id": "dc2e38f3-fc4f-404a-bcd7-5f87cfdfef3f",
   "metadata": {},
   "outputs": [],
   "source": [
    "def faculty_info(fac_name):\n",
    "    os.system('clear')\n",
    "    \n",
    "    print(f\"Faculty Name: {fac_name}\")\n",
    "    print(f\"Department: {faculty_pool[fac_name]['Affiliation']}\")\n",
    "    print(f\"Phone Number: {faculty_pool[fac_name]['phone']}\")\n",
    "    print(f\"Email: {faculty_pool[fac_name]['email']}\")\n",
    "    print(f\"Research Interests: {faculty_pool[fac_name]['Research Interests']}\\n\")\n",
    "    \n",
    "    print(\"\\nPlease enter:\")\n",
    "    ip = input(\"1 - To save the above information in a .txt file\\n2 - Go Home\\nq - To exit\\n\")\n",
    "    \n",
    "    if ip=='1':\n",
    "        write_file(fac_name)\n",
    "        \n",
    "    elif ip=='2':\n",
    "        home_screen()\n",
    "        \n",
    "    elif ip=='q':\n",
    "        exit()\n",
    "        \n",
    "    else:\n",
    "        print(\"Please enter a valid input\\n\")\n",
    "        input(\"Press any key to continue\\n\")\n",
    "        faculty_info(fac_name)"
   ]
  },
  {
   "cell_type": "code",
   "execution_count": 9,
   "id": "265ed6d5-3f1e-49bc-bbf7-38c788eb642c",
   "metadata": {},
   "outputs": [],
   "source": [
    "def write_file(fac_name):\n",
    "\n",
    "        filename = username\n",
    "        full_name = fac_name.split()\n",
    "        \n",
    "        for i in range(len(full_name)):\n",
    "            filename += \"_\"+full_name[i]\n",
    "        \n",
    "        filename+=\".txt\"\n",
    "        file = open(filename, mode = \"w\")\n",
    "        \n",
    "        file.write(f\"Faculty Name: {fac_name}\\n\")\n",
    "        file.write(f\"Department: {faculty_pool[fac_name]['Affiliation']}\\n\")\n",
    "        file.write(f\"Phone Number: {faculty_pool[fac_name]['phone']}\\n\")\n",
    "        file.write(f\"Email: {faculty_pool[fac_name]['email']}\\n\")\n",
    "        file.write(f\"Research Interests: {faculty_pool[fac_name]['Research Interests']}\\n\")\n",
    "        \n",
    "        file.close()\n",
    "        \n",
    "        print(\"\\n\\nFile save successful\\n\")\n",
    "        print(\"Please enter:\")\n",
    "        \n",
    "        ip = input(\"2 - Go Home\\nq - To exit\\n\")\n",
    "        \n",
    "        if ip=='2':\n",
    "            home_screen()\n",
    "            \n",
    "        elif ip=='q':\n",
    "            exit()"
   ]
  },
  {
   "cell_type": "code",
   "execution_count": 2,
   "id": "96312e0e-c415-4c30-bd1d-bc471170392f",
   "metadata": {},
   "outputs": [
    {
     "name": "stdout",
     "output_type": "stream",
     "text": [
      "********Welcome to Nityam's Interface!********\n",
      "\n",
      "\n"
     ]
    },
    {
     "name": "stdin",
     "output_type": "stream",
     "text": [
      "Please enter your name:  raj\n"
     ]
    },
    {
     "ename": "NameError",
     "evalue": "name 'os' is not defined",
     "output_type": "error",
     "traceback": [
      "\u001b[0;31m---------------------------------------------------------------------------\u001b[0m",
      "\u001b[0;31mNameError\u001b[0m                                 Traceback (most recent call last)",
      "Cell \u001b[0;32mIn[2], line 4\u001b[0m\n\u001b[1;32m      1\u001b[0m \u001b[38;5;28mprint\u001b[39m(\u001b[38;5;124m\"\u001b[39m\u001b[38;5;124m********Welcome to Nityam\u001b[39m\u001b[38;5;124m'\u001b[39m\u001b[38;5;124ms Interface!********\u001b[39m\u001b[38;5;130;01m\\n\u001b[39;00m\u001b[38;5;130;01m\\n\u001b[39;00m\u001b[38;5;124m\"\u001b[39m)\n\u001b[1;32m      2\u001b[0m username \u001b[38;5;241m=\u001b[39m \u001b[38;5;28minput\u001b[39m(\u001b[38;5;124m\"\u001b[39m\u001b[38;5;124mPlease enter your name: \u001b[39m\u001b[38;5;124m\"\u001b[39m)\n\u001b[0;32m----> 4\u001b[0m \u001b[43mos\u001b[49m\u001b[38;5;241m.\u001b[39msystem(\u001b[38;5;124m'\u001b[39m\u001b[38;5;124mclear\u001b[39m\u001b[38;5;124m'\u001b[39m)\n\u001b[1;32m      5\u001b[0m home_screen()\n",
      "\u001b[0;31mNameError\u001b[0m: name 'os' is not defined"
     ]
    }
   ],
   "source": [
    "print(\"********Welcome to Nityam's Interface!********\\n\\n\")\n",
    "username = input(\"Please enter your name: \")\n",
    "\n",
    "os.system('clear')\n",
    "home_screen()"
   ]
  },
  {
   "cell_type": "code",
   "execution_count": null,
   "id": "7a4553a0-11b8-42af-b9f0-c9f280f5d55a",
   "metadata": {},
   "outputs": [],
   "source": []
  }
 ],
 "metadata": {
  "kernelspec": {
   "display_name": "Python 3 (ipykernel)",
   "language": "python",
   "name": "python3"
  },
  "language_info": {
   "codemirror_mode": {
    "name": "ipython",
    "version": 3
   },
   "file_extension": ".py",
   "mimetype": "text/x-python",
   "name": "python",
   "nbconvert_exporter": "python",
   "pygments_lexer": "ipython3",
   "version": "3.10.6"
  }
 },
 "nbformat": 4,
 "nbformat_minor": 5
}
