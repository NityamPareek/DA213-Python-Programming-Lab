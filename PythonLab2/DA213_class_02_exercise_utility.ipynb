{
 "cells": [
  {
   "cell_type": "code",
   "execution_count": null,
   "metadata": {
    "collapsed": false,
    "jupyter": {
     "outputs_hidden": false,
     "source_hidden": false
    },
    "nteract": {
     "transient": {
      "deleting": false
     }
    }
   },
   "outputs": [],
   "source": [
    "\n",
    "\n",
    "\n",
    "# import some useful packages\n",
    "import os\n",
    "import pandas as pd\n",
    "\n",
    "# please review the following to do this execise\n",
    "# TO KNOW INPUT: https://python-reference.readthedocs.io/en/latest/docs/functions/input.html\n",
    "# TO KNOW FORMATTED PRINTING: https://docs.python.org/3/tutorial/inputoutput.html\n",
    "# TO KNOW DATA TYPES: https://docs.python.org/3/tutorial/datastructures.html\n",
    "# TO KNOW CONTROLFLOW: https://docs.python.org/3/tutorial/controlflow.html\n",
    "\n",
    "##########################\n",
    "# STAGE - 1: Gather data\n",
    "##########################\n",
    "\n",
    "# initialize the constants\n",
    "SCHOOL_NAME = 'Mehta Family School of Data Science & AI'\n",
    "UG_STUDENT_COUNT = 52\n",
    "PHD_STUDEBT_COUNT = 11\n",
    "\n",
    "# read the CSV file\n",
    "df = pd.read_csv('./DA213_class02_faculty_data.csv', )\n",
    "df_column_names = list(df.columns) # this is a list\n",
    "print(df)\n",
    "# TO KNOW DATA FRAME: https://pandas.pydata.org/docs/reference/api/pandas.read_csv.html\n",
    "\n",
    "# get information from the CSV file\n",
    "faculty_count = len(df) # outputs an integer\n",
    "\n",
    "# create a dictionary with keys as faculty\n",
    "faculty_pool = {}\n",
    "keys = [] # a list containing faculty names\n",
    "for key in keys:\n",
    "    faculty_pool[key] = {} # another dictionary\n",
    "    # for each faculty\n",
    "    keys_faculty = ['Name', 'Research Interests', 'Association', 'Affiliation', 'Email', 'Phone', 'Website', 'Research Interests']\n",
    "    for key_faculty in keys_faculty:\n",
    "        faculty_pool[key][key_faculty] = [] # fill from the data frame\n",
    "\n",
    "# by now you have gathered the required data.\n",
    "\n",
    "#############################\n",
    "# STAGE - 2: User Interaction\n",
    "#############################\n",
    "\n",
    "print('Welcome!')\n",
    "username = input('Please enter your name:')\n",
    "\n",
    "print(f\"Hey {username}, following is some information about  our school:\")\n",
    "print(f\"School Name: {SCHOOL_NAME}\", end='\\n')\n",
    "print(f\"Faculty Count: {faculty_count}\", end='\\n')\n",
    "\n",
    "# while(1):\n",
    "#     os.system('clear')\n"
   ]
  }
 ],
 "metadata": {
  "kernelspec": {
   "display_name": "Python 3 (ipykernel)",
   "language": "python",
   "name": "python3"
  },
  "language_info": {
   "codemirror_mode": {
    "name": "ipython",
    "version": 3
   },
   "file_extension": ".py",
   "mimetype": "text/x-python",
   "name": "python",
   "nbconvert_exporter": "python",
   "pygments_lexer": "ipython3",
   "version": "3.10.6"
  },
  "microsoft": {
   "language": "python"
  },
  "nteract": {
   "version": "nteract-front-end@1.0.0"
  }
 },
 "nbformat": 4,
 "nbformat_minor": 4
}
