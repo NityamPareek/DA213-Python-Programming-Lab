{
 "cells": [
  {
   "cell_type": "code",
   "execution_count": 1,
   "id": "9db35221-f324-4968-a61d-70ffd51cdaf1",
   "metadata": {},
   "outputs": [],
   "source": [
    "import pandas as pd\n",
    "import numpy as np\n",
    "import scipy"
   ]
  },
  {
   "cell_type": "code",
   "execution_count": 2,
   "id": "1cadd92c-c325-43a5-9973-e610715c7603",
   "metadata": {},
   "outputs": [],
   "source": [
    "polynomial = lambda x: x**4 - x**3 - x**2 - 1"
   ]
  },
  {
   "cell_type": "code",
   "execution_count": 4,
   "id": "6478b603-7d8b-407f-b430-14b98ff5cfab",
   "metadata": {},
   "outputs": [],
   "source": [
    "result = scipy.optimize.minimize_scalar(polynomial)"
   ]
  },
  {
   "cell_type": "code",
   "execution_count": 5,
   "id": "7b7c058e-a98c-411b-ab83-fc3c8bcf5cb1",
   "metadata": {},
   "outputs": [],
   "source": [
    "min_val = result.fun\n",
    "x_min = result.x"
   ]
  },
  {
   "cell_type": "code",
   "execution_count": 6,
   "id": "6bc5f5b8-5aca-4b8c-8292-131e71c2b613",
   "metadata": {},
   "outputs": [
    {
     "name": "stdout",
     "output_type": "stream",
     "text": [
      "The minimum value of the function: -2.0967345580756773\n",
      "Value of x at the minimum: 1.1753905286751836\n"
     ]
    }
   ],
   "source": [
    "print(f\"The minimum value of the function: {min_val}\\nValue of x at the minimum: {x_min}\")"
   ]
  }
 ],
 "metadata": {
  "kernelspec": {
   "display_name": "Python 3 (ipykernel)",
   "language": "python",
   "name": "python3"
  },
  "language_info": {
   "codemirror_mode": {
    "name": "ipython",
    "version": 3
   },
   "file_extension": ".py",
   "mimetype": "text/x-python",
   "name": "python",
   "nbconvert_exporter": "python",
   "pygments_lexer": "ipython3",
   "version": "3.10.6"
  }
 },
 "nbformat": 4,
 "nbformat_minor": 5
}
