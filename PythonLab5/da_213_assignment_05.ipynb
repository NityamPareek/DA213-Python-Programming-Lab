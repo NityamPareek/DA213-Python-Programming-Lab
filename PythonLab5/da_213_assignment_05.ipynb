{
 "cells": [
  {
   "cell_type": "markdown",
   "id": "36029afb-22db-41d8-bb9b-862738159c29",
   "metadata": {},
   "source": [
    "## Instructions:\n",
    "* Create a class for DNA sequence.\n",
    "* The string representing a DNA is the only attribute of the class\n",
    "* The class will have the following methods\n",
    "\n",
    "Method 1: Calculate the GC content of the DNA sequence. The details is discussed below.\n",
    "Method 2: Calcualte the melting point of the DNA. The details is discussed below.\n",
    "Method 3: Translate the DNA seqeunce into the corresponding protein seqeunce. The details is discussed below.\n",
    "Method 4: Finding the recognition sites for restriction enzymes in a DNA seqeunce. The details is discussed below.\n",
    "\n",
    "All the methods will take no inputs, and will work on the attribute of the object with which they are associated.\n",
    "<br>\n",
    "A DNA sequence file is provided (sars.txt). Read the sequence from that file and test the module you created on this sequence.\n",
    "Submit the module as a <roll_number_assignment_05.py> file. \n",
    "\n"
   ]
  },
  {
   "cell_type": "markdown",
   "id": "5e38312c-58d5-4738-8fc8-0be3aca9d57f",
   "metadata": {},
   "source": [
    "---"
   ]
  },
  {
   "cell_type": "markdown",
   "id": "d686b74f-7fa2-490d-9e5a-0d217b86b0b9",
   "metadata": {},
   "source": [
    "## Method 1:\n",
    "A method to find the GC content of a given DNA sequence. GC content is defined as the percentage of G and C in a given DNA sequence. This is estimated for one strand of the DNA. \n",
    "<br> For example: Let the sequence be AAAGGTTTTCCG. The <code>GC content = (3+2)*100/12 = 41.66666%</code>\n",
    "<br> Output is the GC content in percentage.\n",
    "<br> Note the the user may use a |sequence that has bases written in lower and upper cases. Also there may be space between bases. Your function must take care of these issues."
   ]
  },
  {
   "cell_type": "markdown",
   "id": "5cd8b3f3-b007-48c3-a58c-b63c74ce7580",
   "metadata": {},
   "source": [
    "## Method 2\n",
    "\n",
    "Create a method to calculate the melting point of a DNA.\n",
    "<br>\n",
    "The melting temperature (Tm) is defined as the temperature at which half of the DNA strands are in the random coil or single-stranded (ssDNA) state. There are several methods to estimate the melting temperature of a DNA from the sequence information. One such method is ‘Wallace rule’:\n",
    "<br>\n",
    "Melting point in degree Celsius, <code>Tm = 4(Number of G + Number of C) + 2(Number of A + Number of T)</code>\n",
    "<br> Here, consider only one strand of the DNA.\n",
    "<br>\n",
    "Output of this method is the numerical value of the melting temperature in degree Celsius. \n",
    "<br> \n",
    "Note the the user may use a sequence that has bases written in lower and upper cases. Also there may be space between bases. Your function must take care of these issues.\n"
   ]
  },
  {
   "cell_type": "markdown",
   "id": "8f49d6dc-b455-4863-996f-f9d2c69d0439",
   "metadata": {},
   "source": [
    "## Method 3\n",
    "Create a method to translate a DNA seqeunce into the corresponding protein seqeunce.\n",
    "<br><br>\n",
    "By translation a protein is generated using the information in DNA. Three consecutive bases of a DNA is called a codon and a codon represent an amino acid. \n",
    "<br> There is a standard codon table, mapping codons to 20 amino acids. Most organisms follow this standard codon table. Three codons are stop codons. They do not represent any amino acids but stops translation. ATG repersent Methionine (M) and is usually the staring point of translation.\n",
    "<br><br>\n",
    "The standard codon table is provided here as a Python dictionary. \n",
    "<br> \n",
    "Use this dictionary to create the function. Note that amino acids are written using single letter code. A * represents stop codon. \n",
    "<br> \n",
    "The method should return the corresponding protein seqeunce, in upper case.\n",
    "<br><br>\n",
    "Note the the user may use a sequence that has bases written in lower and upper cases. Also there may be space between bases. Your function must take care of these issues. Also note that the minimum length of the DNA seqeunce must be greater than 3 bases. When the length is bigger than multiple of three, extra bases at the end are not considered for translation.\n",
    "<br><br>\n",
    "**Codon Table** as a Python dictionary:\n",
    "<br>\n",
    "<code>\n",
    "    DNA_Codons = {\n",
    "    # 'M' - START, '*' - STOP\n",
    "    \"GCT\": \"A\", \"GCC\": \"A\", \"GCA\": \"A\", \"GCG\": \"A\",\n",
    "    \"TGT\": \"C\", \"TGC\": \"C\",\n",
    "    \"GAT\": \"D\", \"GAC\": \"D\",\n",
    "    \"GAA\": \"E\", \"GAG\": \"E\",\n",
    "    \"TTT\": \"F\", \"TTC\": \"F\",\n",
    "    \"GGT\": \"G\", \"GGC\": \"G\", \"GGA\": \"G\", \"GGG\": \"G\",\n",
    "    \"CAT\": \"H\", \"CAC\": \"H\",\n",
    "    \"ATA\": \"I\", \"ATT\": \"I\", \"ATC\": \"I\",\n",
    "    \"AAA\": \"K\", \"AAG\": \"K\",\n",
    "    \"TTA\": \"L\", \"TTG\": \"L\", \"CTT\": \"L\", \"CTC\": \"L\", \"CTA\": \"L\", \"CTG\": \"L\",\n",
    "    \"ATG\": \"M\",\n",
    "    \"AAT\": \"N\", \"AAC\": \"N\",\n",
    "    \"CCT\": \"P\", \"CCC\": \"P\", \"CCA\": \"P\", \"CCG\": \"P\",\n",
    "    \"CAA\": \"Q\", \"CAG\": \"Q\",\n",
    "    \"CGT\": \"R\", \"CGC\": \"R\", \"CGA\": \"R\", \"CGG\": \"R\", \"AGA\": \"R\", \"AGG\": \"R\",\n",
    "    \"TCT\": \"S\", \"TCC\": \"S\", \"TCA\": \"S\", \"TCG\": \"S\", \"AGT\": \"S\", \"AGC\": \"S\",\n",
    "    \"ACT\": \"T\", \"ACC\": \"T\", \"ACA\": \"T\", \"ACG\": \"T\",\n",
    "    \"GTT\": \"V\", \"GTC\": \"V\", \"GTA\": \"V\", \"GTG\": \"V\",\n",
    "    \"TGG\": \"W\",\n",
    "    \"TAT\": \"Y\", \"TAC\": \"Y\",\n",
    "    \"TAA\": \"*\", \"TAG\": \"*\", \"TGA\": \"*\"\n",
    "    }\n",
    "    </code>"
   ]
  },
  {
   "cell_type": "markdown",
   "id": "e57f1723-8d8b-4e51-8391-b62ece811c56",
   "metadata": {},
   "source": [
    "## Method 4\n",
    "Create a method that finds recognision sites for restriction enzymes in a DNA seqeunce.\n",
    "<br><br>\n",
    "Restriction enzymes are proteins that cut a DNA at a specific location. Each restriction enzyme recognise an unique seqeunce at makes a cut. These seqeunces are called the recognision sites. These site vary in length from 4 to 6 and even more.\n",
    "<br>These enzymes are essential tools of genetic engineering and used to edit DNA.\n",
    "<br><br>There are hundreds of commercially avilable restriction enzymes. However, for this assignment a short list of the enzymes is provided. It is a Python dictionary. The keys are the names of the enzymes. The values are the seqeunces of the corresponding recognition site. Use this dictionary in your code.\n",
    "<br>The output of the method should be a dictionary. Keys of this dictionary should be the names of the enzymes. Values of this dictionary will be lists, listing the position of the start of a recognision site. \n",
    "<br><br>Note that in Python, the string indexing starts with 0. But we count bases in a DNA from 1. So do neccesary corrections in the output. \n",
    "<br> Here is an example:\n",
    "<br>  The given sequnec is: GGATCCTTGCGGATCCCTAG\n",
    "<br> The recognistion sites of BAMHI and BFAI are GGATCC and CTAG, respectively. So in the given seqeunce,\n",
    "BAMHI has recognistion sites at 1 (NOT 0), and 11. BFAI has the site at 17. These values should be reported by your function. \n",
    "<br><br> Note the the user may use a sequence that has bases written in lower and upper cases. Also there may be space between bases. Your function must take care of these issues. \n",
    "<code>\n",
    "        # dictionary for restriction enzymes\n",
    "\n",
    "    # Name of the enzyme: Site of recognision\n",
    "    # Names are capitalized to avoid any typo\n",
    "\n",
    "    \n",
    "    restriction_enzymes ={\n",
    "        'AARI': 'CACCTGC',\n",
    "        'BAMHI': 'GGATCC',\n",
    "        'BFAI': 'CTAG', \n",
    "        'ECORI': 'GAATTC',\n",
    "        'HAEIII': 'GGCC',\n",
    "        'HINDIII': 'AATTCG',\n",
    "        'HPAI': 'GTTAAC',\n",
    "        'HPYCH4IV': 'ACGT',\n",
    "        'KPNI': 'GGTACC',\n",
    "        'MSTI': 'TGCGCA', \n",
    "        'MLUI': 'ACGCGT',   \n",
    "        'SSPI': 'AATATT',\n",
    "        'TAQI': 'TCGA',\n",
    "        'XBAI': 'TCTAGA'   \n",
    "    }\n",
    "</code>\n",
    "\n",
    "\n"
   ]
  }
 ],
 "metadata": {
  "kernelspec": {
   "display_name": "Python 3 (ipykernel)",
   "language": "python",
   "name": "python3"
  },
  "language_info": {
   "codemirror_mode": {
    "name": "ipython",
    "version": 3
   },
   "file_extension": ".py",
   "mimetype": "text/x-python",
   "name": "python",
   "nbconvert_exporter": "python",
   "pygments_lexer": "ipython3",
   "version": "3.10.6"
  },
  "vscode": {
   "interpreter": {
    "hash": "916dbcbb3f70747c44a77c7bcd40155683ae19c65e1c03b4aa3499c5328201f1"
   }
  }
 },
 "nbformat": 4,
 "nbformat_minor": 5
}
