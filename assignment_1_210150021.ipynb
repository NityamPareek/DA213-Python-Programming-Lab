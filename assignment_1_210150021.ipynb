{
 "cells": [
  {
   "cell_type": "code",
   "execution_count": 1,
   "id": "ed1516d8-1c4f-4011-90c3-f9077236f555",
   "metadata": {},
   "outputs": [],
   "source": [
    "#Function to calculate reverse complement of a sequence\n",
    "def reverse_complement(sequence):\n",
    "    comp = ''\n",
    "    for i in range(len(sequence)):\n",
    "        if(sequence[i] == 'A'):\n",
    "            comp+='T'\n",
    "        elif(sequence[i] == 'T'):\n",
    "            comp += 'A'\n",
    "        elif(sequence[i] == 'G'):\n",
    "            comp += 'C'\n",
    "        elif(sequence[i] == 'C'):\n",
    "            comp += 'G'\n",
    "        elif(sequence[i] == ' '):\n",
    "            comp += ' '\n",
    "    comp = comp[::-1]    \n",
    "    return comp         "
   ]
  },
  {
   "cell_type": "code",
   "execution_count": 6,
   "id": "e96d5e17-1f51-4586-b149-2ea72c6d6b9a",
   "metadata": {},
   "outputs": [],
   "source": [
    "#Function to calculate relative frequency of bases\n",
    "def relative_frequency(sequence):\n",
    "    A = 0\n",
    "    T = 0\n",
    "    G = 0\n",
    "    C = 0\n",
    "    \n",
    "    for i in range(len(sequence)):\n",
    "        if(sequence[i] == 'A'):\n",
    "            A+=1\n",
    "            T+=1\n",
    "        elif(sequence[i] == 'T'):\n",
    "            T+=1\n",
    "            A+=1\n",
    "        elif(sequence[i] == 'G'):\n",
    "            G+=1\n",
    "            C+=1\n",
    "        elif(sequence[i] == 'C'):\n",
    "            C+=1\n",
    "            G+=1\n",
    "    \n",
    "    sum = A+T+G+C\n",
    "    \n",
    "    A/=sum\n",
    "    T/=sum\n",
    "    G/=sum\n",
    "    C/=sum\n",
    "    \n",
    "    return A, T, G, C"
   ]
  },
  {
   "cell_type": "code",
   "execution_count": 3,
   "id": "6c543463-d5df-4710-bc48-435d02150c59",
   "metadata": {},
   "outputs": [
    {
     "name": "stdout",
     "output_type": "stream",
     "text": [
      "GCAT\n"
     ]
    }
   ],
   "source": [
    "#Testing the reverse_complement function\n",
    "sequence = \"ATGC\"\n",
    "new_seq = reverse_complement(sequence)\n",
    "print(new_seq)"
   ]
  },
  {
   "cell_type": "code",
   "execution_count": 8,
   "id": "3adc543b-cc46-4468-914d-6515fadc822f",
   "metadata": {},
   "outputs": [
    {
     "name": "stdout",
     "output_type": "stream",
     "text": [
      "(0.25, 0.25, 0.25, 0.25)\n"
     ]
    }
   ],
   "source": [
    "#Testing the relative_frequency function\n",
    "sequence = \"ATGC\"\n",
    "print(relative_frequency(sequence))"
   ]
  },
  {
   "cell_type": "code",
   "execution_count": 10,
   "id": "0483e83d-4383-47d8-b3e8-fe7816946dff",
   "metadata": {},
   "outputs": [
    {
     "name": "stdout",
     "output_type": "stream",
     "text": [
      "The reverse complement of the given sequence is:\n",
      "TTAGACCAGA AGATCAGGAA CTCTAGAAGA ATTCAGATTT TTAACACGAG AGTAAACGTA AAAAGAAGGT TTTACAAGAC TCACGTTAAC AATATTGCAG CAGTACGCAC ACAATCGAAG CGCAGTAAGG ATGGCTAGTG TAACTAGCAA GAATACCACG AAAGCAAGAA AAAGAAGTAC GCTATTAACT ATTAACGTAC CTGTCTCTTC CGAAACGAAT GAGTACAT\n",
      "\n",
      "Frequency of bases is:\n",
      "A: 0.3092105263157895\n",
      "T: 0.3092105263157895\n",
      "G: 0.19078947368421054\n",
      "C: 0.19078947368421054\n"
     ]
    }
   ],
   "source": [
    "#op -> Output file\n",
    "op = open(\"reverse_complement.txt\", mode = \"w\")\n",
    "op.write(\"The reverse complement of the given sequence is:\\n\")\n",
    "\n",
    "#ip -> Input file\n",
    "with open(\"sars.txt\", mode = 'r') as ip:\n",
    "    next(ip)\n",
    "    for line in ip:\n",
    "        print(f\"The reverse complement of the given sequence is:\\n{reverse_complement(line)}\")\n",
    "        op.write(reverse_complement(line))\n",
    "        A, T, G, C = relative_frequency(line)\n",
    "        print(f\"\\nRelative frequency of bases is:\\nA: {A}\\nT: {T}\\nG: {G}\\nC: {C}\")\n",
    "ip.close()\n",
    "op.close()"
   ]
  },
  {
   "cell_type": "code",
   "execution_count": null,
   "id": "27c1bbef-0932-44b2-b8b0-ccb3eff07481",
   "metadata": {},
   "outputs": [],
   "source": []
  }
 ],
 "metadata": {
  "kernelspec": {
   "display_name": "Python 3 (ipykernel)",
   "language": "python",
   "name": "python3"
  },
  "language_info": {
   "codemirror_mode": {
    "name": "ipython",
    "version": 3
   },
   "file_extension": ".py",
   "mimetype": "text/x-python",
   "name": "python",
   "nbconvert_exporter": "python",
   "pygments_lexer": "ipython3",
   "version": "3.10.6"
  }
 },
 "nbformat": 4,
 "nbformat_minor": 5
}
